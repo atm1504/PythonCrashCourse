{
  "nbformat": 4,
  "nbformat_minor": 0,
  "metadata": {
    "colab": {
      "name": "Python Crash Course Session 2 | 10th June.ipynb",
      "provenance": [],
      "include_colab_link": true
    },
    "kernelspec": {
      "name": "python3",
      "display_name": "Python 3"
    },
    "language_info": {
      "name": "python"
    }
  },
  "cells": [
    {
      "cell_type": "markdown",
      "metadata": {
        "id": "view-in-github",
        "colab_type": "text"
      },
      "source": [
        "<a href=\"https://colab.research.google.com/github/atm1504/PythonCrashCourse/blob/main/Python_Crash_Course_Session_2_%7C_10th_June.ipynb\" target=\"_parent\"><img src=\"https://colab.research.google.com/assets/colab-badge.svg\" alt=\"Open In Colab\"/></a>"
      ]
    },
    {
      "cell_type": "markdown",
      "metadata": {
        "id": "KBmTD-S9qw0p"
      },
      "source": [
        "## Python Session\n",
        "\n",
        "### Date: 11th June, 2021\n",
        "\n",
        "### Topics covered in last session:\n",
        "* Basic Input and Output\n",
        "* Data Types\n",
        "* List\n",
        "* Tuple\n",
        "* Dictionary\n",
        "* Set\n",
        "* string\n",
        "* for loop\n",
        "* if-else\n",
        "\n",
        "## Topics to be covered in this session:\n",
        "\n",
        "* Recap of last class\n",
        "* Reversing of list, strings\n",
        "* while loop\n",
        "* Using lambda for input\n",
        "* sort\n",
        "* map, lambda\n",
        "* maths \n",
        "* Collection module -> Counter, defaultdict\n",
        "* Heapq\n",
        "* bisect module -> For binary search\n",
        "\n"
      ]
    },
    {
      "cell_type": "code",
      "metadata": {
        "id": "-QOdDkjaqr_U",
        "colab": {
          "base_uri": "https://localhost:8080/"
        },
        "outputId": "6dd9d888-d8e1-4286-b96f-ab8b15c46aa1"
      },
      "source": [
        "## How to print a list in reverse order\n",
        "li=[1,2,3,4,5,6,7]\n",
        "\n",
        "## Normal printing\n",
        "print(*li)\n",
        "print(li)\n",
        "\n",
        "## Print in reverse order\n",
        "print(li[::-1])\n",
        "print(*li[::-1])\n",
        "\n",
        "##Printing loop in forward order using for loop\n",
        "n=len(li)\n",
        "for i in range(0,n):\n",
        "  print(li[i], end=\" \")\n",
        "print()\n",
        "## Printing list in reverse order using for loop\n",
        "for i in range(n-1,-1,-1):  # -1<i<=n-1\n",
        "  print(li[i], end=\" \")"
      ],
      "execution_count": null,
      "outputs": [
        {
          "output_type": "stream",
          "text": [
            "1 2 3 4 5 6 7\n",
            "[1, 2, 3, 4, 5, 6, 7]\n",
            "[7, 6, 5, 4, 3, 2, 1]\n",
            "7 6 5 4 3 2 1\n",
            "1 2 3 4 5 6 7 \n",
            "7 6 5 4 3 2 1 "
          ],
          "name": "stdout"
        }
      ]
    },
    {
      "cell_type": "code",
      "metadata": {
        "colab": {
          "base_uri": "https://localhost:8080/"
        },
        "id": "Y75HOmaRE6LW",
        "outputId": "f867159e-8804-49c8-b4ed-5dadaa6f26c7"
      },
      "source": [
        "## While\n",
        "## while <condition>:\n",
        "## execute some statements\n",
        "## print the list that i created above using while loop\n",
        "i=0\n",
        "while i<n:\n",
        "  print(li[i])\n",
        "  i+=1\n",
        "\n",
        "## print list in reverse order using while loop\n",
        "i=n-1\n",
        "while i>=0:\n",
        "  print(li[i])\n",
        "  i-=1\n"
      ],
      "execution_count": null,
      "outputs": [
        {
          "output_type": "stream",
          "text": [
            "1\n",
            "2\n",
            "3\n",
            "4\n",
            "5\n",
            "6\n",
            "7\n",
            "7\n",
            "6\n",
            "5\n",
            "4\n",
            "3\n",
            "2\n",
            "1\n"
          ],
          "name": "stdout"
        }
      ]
    },
    {
      "cell_type": "code",
      "metadata": {
        "colab": {
          "base_uri": "https://localhost:8080/"
        },
        "id": "-PIJBIisGkKS",
        "outputId": "13b3a4df-9fed-4cee-a279-8cdc6421a935"
      },
      "source": [
        "## Lambda for input\n",
        "x=input() \n",
        "## input of the format \n",
        "## 2\n",
        "## abc\n",
        "\n",
        "## 1 2 3 4 5 6 and store it in a list.\n",
        "li=list(map(int,input().strip().split()))\n",
        "\n",
        "## input() -> takes the entire line as input\n",
        "## Strip removes extra spaces at the end or the begining of the input data\n",
        "# split -> breaks down the input, into individual elements, \n",
        "## map is a special made in python-> its input is a function and a set of values\n",
        "print(li)"
      ],
      "execution_count": null,
      "outputs": [
        {
          "output_type": "stream",
          "text": [
            "2\n",
            "2 3 4 5 6 7 89 10\n",
            "[2, 3, 4, 5, 6, 7, 89, 10]\n"
          ],
          "name": "stdout"
        }
      ]
    },
    {
      "cell_type": "code",
      "metadata": {
        "colab": {
          "base_uri": "https://localhost:8080/"
        },
        "id": "VGyaBvcGIT_u",
        "outputId": "bacb559c-09ac-4c03-8d4b-76fb83e182fe"
      },
      "source": [
        "## suppose u know, u will be inputiing 3 variables in a single line and we want them to store in x,y,z vaibel\n",
        "x,y,z =map(int,input().strip().split())\n",
        "print(x,y,z) "
      ],
      "execution_count": null,
      "outputs": [
        {
          "output_type": "stream",
          "text": [
            "2 4 7\n",
            "2 4 7\n"
          ],
          "name": "stdout"
        }
      ]
    },
    {
      "cell_type": "code",
      "metadata": {
        "colab": {
          "base_uri": "https://localhost:8080/"
        },
        "id": "HW90QcBOIohF",
        "outputId": "0df6e203-654f-4c88-c414-226d0f77af88"
      },
      "source": [
        "li1 = map(int,input().split())\n",
        "print(li1)\n",
        "print(type(li1))"
      ],
      "execution_count": null,
      "outputs": [
        {
          "output_type": "stream",
          "text": [
            "2 3 4 5\n",
            "<map object at 0x7f9980a75790>\n",
            "<class 'map'>\n"
          ],
          "name": "stdout"
        }
      ]
    },
    {
      "cell_type": "code",
      "metadata": {
        "colab": {
          "base_uri": "https://localhost:8080/"
        },
        "id": "5v33IG2GJNDK",
        "outputId": "70f89e90-d109-4576-becc-e9a9a9c6383f"
      },
      "source": [
        "## Sorting\n",
        "li =[4, 2 , 1, 6, 3 , 7]\n",
        "\n",
        "## Sort in ascending order\n",
        "# li.sort()\n",
        "# print(li)\n",
        "\n",
        "## Sort in descending order\n",
        "li.sort(reverse=True)\n",
        "print(li)\n"
      ],
      "execution_count": null,
      "outputs": [
        {
          "output_type": "stream",
          "text": [
            "[7, 6, 4, 3, 2, 1]\n"
          ],
          "name": "stdout"
        }
      ]
    },
    {
      "cell_type": "code",
      "metadata": {
        "colab": {
          "base_uri": "https://localhost:8080/"
        },
        "id": "BcnNKwbWJ18c",
        "outputId": "c3ab3ead-8868-4c34-b988-51be7aeade7b"
      },
      "source": [
        "## My original list should not get sorted. We want to store the sorted values in a different vairbale\n",
        "li =[4, 2 , 1, 6, 3 , 7]\n",
        "\n",
        "# in ascending\n",
        "li1=sorted(li)\n",
        "print(li)\n",
        "print(li1)\n",
        "\n",
        "# In descending order\n",
        "li2 = sorted(li, reverse=True)\n",
        "print(li2)"
      ],
      "execution_count": null,
      "outputs": [
        {
          "output_type": "stream",
          "text": [
            "[4, 2, 1, 6, 3, 7]\n",
            "[1, 2, 3, 4, 6, 7]\n",
            "[7, 6, 4, 3, 2, 1]\n"
          ],
          "name": "stdout"
        }
      ]
    },
    {
      "cell_type": "code",
      "metadata": {
        "colab": {
          "base_uri": "https://localhost:8080/"
        },
        "id": "7YGn8JCBKVPN",
        "outputId": "02f015cb-d47b-435d-b1ca-c47a1a9c7509"
      },
      "source": [
        "## Soritng 2D arrays or matrixes\n",
        "li=[[3, 4], [2,1], [6,5], [7, 9], [-1,0]]\n",
        "print(li)\n",
        "\n",
        "## sort using the first column\n",
        "# li.sort(key=lambda x:x[0])\n",
        "# print(li)\n",
        "\n",
        "## sort using the second column\n",
        "# li.sort(key=lambda x:x[1])\n",
        "# print(li)\n",
        "\n",
        "## sort usign the 2nd index but in reverse order\n",
        "li.sort(key=lambda x:x[1], reverse=True)\n",
        "print(li)"
      ],
      "execution_count": null,
      "outputs": [
        {
          "output_type": "stream",
          "text": [
            "[[3, 4], [2, 1], [6, 5], [7, 9], [-1, 0]]\n",
            "[[7, 9], [6, 5], [3, 4], [2, 1], [-1, 0]]\n"
          ],
          "name": "stdout"
        }
      ]
    },
    {
      "cell_type": "code",
      "metadata": {
        "colab": {
          "base_uri": "https://localhost:8080/"
        },
        "id": "EHmz4mgtK5vX",
        "outputId": "36fc514b-b146-47e7-eda6-e016aa2c313d"
      },
      "source": [
        "## MAP\n",
        "## map is an inbuit fucntion of pythin, that takes input a fucntion and a set of values :\n",
        "## map(function, values)\n",
        "\n",
        "def square(x):\n",
        "  return x*x\n",
        "\n",
        "li=[4,6,7]\n",
        "print(list(map(square, li)))\n"
      ],
      "execution_count": null,
      "outputs": [
        {
          "output_type": "stream",
          "text": [
            "[16, 36, 49]\n"
          ],
          "name": "stdout"
        }
      ]
    },
    {
      "cell_type": "code",
      "metadata": {
        "colab": {
          "base_uri": "https://localhost:8080/"
        },
        "id": "lXb6XKzgMEqU",
        "outputId": "19453f69-1de8-48e0-c946-79da650a520b"
      },
      "source": [
        "## Lambda is called in line anonyumous function. Its does not have. A fucntion without name\n",
        "## this fucntion is written in a single line\n",
        "## lambda <arguments or parameter>: <the task to perform\n",
        "\n",
        "x = lambda y,z:y*z\n",
        "\n",
        "print(x(3,5))\n"
      ],
      "execution_count": null,
      "outputs": [
        {
          "output_type": "stream",
          "text": [
            "15\n"
          ],
          "name": "stdout"
        }
      ]
    },
    {
      "cell_type": "code",
      "metadata": {
        "colab": {
          "base_uri": "https://localhost:8080/"
        },
        "id": "YNHdE3e8Mhwu",
        "outputId": "d7489ffd-bea7-4502-c1e1-16ca95e49b69"
      },
      "source": [
        "## math module\n",
        "# from math import * ## this inputs all the things present in the math module\n",
        "\n",
        "## import math\n",
        "\n",
        "## to important specific things from a module use the following syntax\n",
        "from math import sqrt, floor\n",
        "\n",
        "x=sqrt(6)\n",
        "print(x)\n",
        "\n",
        "y=5.35\n",
        "print(floor(y))"
      ],
      "execution_count": null,
      "outputs": [
        {
          "output_type": "stream",
          "text": [
            "2.449489742783178\n",
            "5\n"
          ],
          "name": "stdout"
        }
      ]
    },
    {
      "cell_type": "code",
      "metadata": {
        "colab": {
          "base_uri": "https://localhost:8080/"
        },
        "id": "PPKhJxqHNHb9",
        "outputId": "ce60fd7f-e4d8-4331-df12-42150f1f207a"
      },
      "source": [
        "## collections modules\n",
        "## Counter , defaultdict\n",
        "\n",
        "## Counter\n",
        "li=[1,2,2,3,4,3,4,1,2,3,7,8]\n",
        "\n",
        "## You want to know how many times each elemnt is present in the list\n",
        "## You can use dictionary to count the occurence of each variabel\n",
        "d=dict()\n",
        "for x in li:\n",
        "  d[x]=d.get(x,0)+1\n",
        "print(d)\n",
        "\n",
        "## Use counter to get frequencies\n",
        "from collections import Counter\n",
        "c=Counter(li)\n",
        "print(c)\n",
        "\n",
        "print(c[10])\n"
      ],
      "execution_count": null,
      "outputs": [
        {
          "output_type": "stream",
          "text": [
            "{1: 2, 2: 3, 3: 3, 4: 2, 7: 1, 8: 1}\n",
            "Counter({2: 3, 3: 3, 1: 2, 4: 2, 7: 1, 8: 1})\n",
            "0\n"
          ],
          "name": "stdout"
        }
      ]
    },
    {
      "cell_type": "code",
      "metadata": {
        "colab": {
          "base_uri": "https://localhost:8080/"
        },
        "id": "YxlXHXogN00j",
        "outputId": "88e7dd42-fb0b-4b79-adc9-eedccb42eae1"
      },
      "source": [
        "## deafault dictionary\n",
        "from collections import defaultdict\n",
        "dd =defaultdict(list)\n",
        "\n",
        "# dd=[\"a\":[1,2], \"b\":[3,4 5 6]]\n",
        "dd[\"a\"]=[1,2]\n",
        "dd[\"b\"]=[3,4,5,6]\n",
        "\n",
        "print(dd)\n",
        "\n",
        "## print what is store in key \"c\"\n",
        "\n",
        "print(dd[\"c\"])\n",
        "\n",
        "keys=[\"d\",\"e\",\"f\"]\n",
        "for x in keys:\n",
        "  dd[x].append(\"aewre\")\n",
        "print(dd)"
      ],
      "execution_count": null,
      "outputs": [
        {
          "output_type": "stream",
          "text": [
            "defaultdict(<class 'list'>, {'a': [1, 2], 'b': [3, 4, 5, 6]})\n",
            "[]\n",
            "defaultdict(<class 'list'>, {'a': [1, 2], 'b': [3, 4, 5, 6], 'c': [], 'd': ['aewre'], 'e': ['aewre'], 'f': ['aewre']})\n"
          ],
          "name": "stdout"
        }
      ]
    },
    {
      "cell_type": "code",
      "metadata": {
        "colab": {
          "base_uri": "https://localhost:8080/"
        },
        "id": "UnSbuX5UOqKt",
        "outputId": "5b75e716-ba31-4fdd-98bf-d3dc0525aa35"
      },
      "source": [
        "## Heapq\n",
        "## There is a data structure\n",
        "## stores element in a given priority\n",
        "li=[5,2,3,1,4]\n",
        "from heapq import heapify, heappop, heappush\n",
        "\n",
        "heapify(li)\n",
        "print(li)\n",
        "\n",
        "## I wamt to get the samllest element in li\n",
        "x = heappop(li) ## it removes the smallest element from li and give u\n",
        "print(x)\n",
        "\n",
        "heappush(li,-2) ## it pushes a new element into li\n",
        "heappush(li,10)\n",
        "x = heappop(li)\n",
        "print(x)\n",
        "\n",
        "##  log(n) time complexity"
      ],
      "execution_count": null,
      "outputs": [
        {
          "output_type": "stream",
          "text": [
            "[1, 2, 3, 5, 4]\n",
            "1\n",
            "-2\n"
          ],
          "name": "stdout"
        }
      ]
    },
    {
      "cell_type": "code",
      "metadata": {
        "id": "x2d39JoUQHmf",
        "colab": {
          "base_uri": "https://localhost:8080/"
        },
        "outputId": "855bc11e-cdde-4e09-8bfb-19d3781879f0"
      },
      "source": [
        "## Binary search\n",
        "## For doing binary search we use the bisect module in python. it return the indexes of the required element in O(log(n))\n",
        "## Documentation Link: https://docs.python.org/3/library/bisect.html\n",
        "from bisect import bisect_left, bisect_right, bisect\n",
        "\n",
        "## Let li be a sorted list in ascending order\n",
        "li=[1,2,3,4,4,5,6,6,6,7,8,9]\n",
        "\n",
        "## Suppose we need to find the index where the element 7 can be inserted into the given list. \n",
        "# It is possibe to insert after the current 7\n",
        "ind_of_7 = bisect(li,7)\n",
        "print(ind_of_7)\n",
        "\n",
        "## Suppose we need to find the index of the element 6.\n",
        "## But we can see that 6 is present in the list 3 times.\n",
        "\n",
        "## Suppose we want to have the left most index, that is the index of the first occurence of 6\n",
        "ind_left_6 = bisect_left(li,6)\n",
        "print(ind_left_6)\n",
        "\n",
        "## suppose we want to have the right most index, that is the index of the last occurence of 6\n",
        "ind_right_6 = bisect_right(li,6)\n",
        "print(ind_right_6)\n"
      ],
      "execution_count": null,
      "outputs": [
        {
          "output_type": "stream",
          "text": [
            "10\n",
            "6\n",
            "9\n"
          ],
          "name": "stdout"
        }
      ]
    },
    {
      "cell_type": "code",
      "metadata": {
        "id": "z7OzDOPTCSRr",
        "colab": {
          "base_uri": "https://localhost:8080/"
        },
        "outputId": "9802f66d-b617-4848-fe4a-633c23cae3d4"
      },
      "source": [
        "## Zip in python\n",
        "## SUppose we have 2 lists of same length\n",
        "li1=[1,2,3,4,5,6]\n",
        "li2=[10,11,12,13,14,15]\n",
        "\n",
        "## Suppose we need to iterate this two list simultanelously and operate some operation at the same index values in boht the list\n",
        "## Like suppose I need to find li1[i]*li2[i], so in python we have a shortcut\n",
        "for x,y in zip(li1,li2):\n",
        "  print(x*y) \n",
        "## Here x=li1[i] and y=li2[i]\n",
        "## so instead of indexing or using indexing method we have achieved the objective using zip fucntion\n"
      ],
      "execution_count": 1,
      "outputs": [
        {
          "output_type": "stream",
          "text": [
            "10\n",
            "22\n",
            "36\n",
            "52\n",
            "70\n",
            "90\n"
          ],
          "name": "stdout"
        }
      ]
    },
    {
      "cell_type": "code",
      "metadata": {
        "id": "k1CCjVkcT9Dw"
      },
      "source": [
        ""
      ],
      "execution_count": null,
      "outputs": []
    }
  ]
}