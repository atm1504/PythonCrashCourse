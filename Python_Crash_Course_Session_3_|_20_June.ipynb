{
  "nbformat": 4,
  "nbformat_minor": 0,
  "metadata": {
    "colab": {
      "name": "Python Crash Course Session 3 | 20 June.ipynb",
      "provenance": [],
      "include_colab_link": true
    },
    "kernelspec": {
      "name": "python3",
      "display_name": "Python 3"
    },
    "language_info": {
      "name": "python"
    }
  },
  "cells": [
    {
      "cell_type": "markdown",
      "metadata": {
        "id": "view-in-github",
        "colab_type": "text"
      },
      "source": [
        "<a href=\"https://colab.research.google.com/github/atm1504/PythonCrashCourse/blob/main/Python_Crash_Course_Session_3_%7C_20_June.ipynb\" target=\"_parent\"><img src=\"https://colab.research.google.com/assets/colab-badge.svg\" alt=\"Open In Colab\"/></a>"
      ]
    },
    {
      "cell_type": "markdown",
      "metadata": {
        "id": "amDtCeX9sEVn"
      },
      "source": [
        "# Python Crash Course Session 3\n",
        "\n",
        "## Date: 20th June, 2021\n",
        "\n",
        "### Topics to be Covered:\n",
        "* zip fucntion, used in list\n",
        "* deque from collection module\n",
        "* classes and objects\n"
      ]
    },
    {
      "cell_type": "code",
      "metadata": {
        "id": "dY-WtA5MrZ4w",
        "colab": {
          "base_uri": "https://localhost:8080/"
        },
        "outputId": "1d68a728-d90e-4605-8dd9-97f69897b7f2"
      },
      "source": [
        "## Stack\n",
        "## stack is a special data structure, which follows the concept of LIFO (Last in first out)\n",
        "## in stacks we have functions like push (append in list), pop(), overflow(size of the stack is full), underflow(stack is empty)\n",
        "## its simplpy a list\n",
        "\n",
        "## Queue\n",
        "## Queue is a special data structure which follows the conceot of FIFO(First in first out)\n",
        "## Same functions like push (it occurs at the end), pop(from the first), overflow, underflow\n",
        "\n",
        "## Deque\n",
        "## Double ended Queue is called deque. Push and pop operation is supported at both the end.\n",
        "## Assume a bus with two doors at teh two end.\n",
        "from collections import deque\n",
        "li=deque()\n",
        "li.appendleft(1) ## Append from first side\n",
        "li.appendleft(2) ## Append from first\n",
        "li.append(3) ## Append from end\n",
        "print(li)\n",
        "\n",
        "## remove element\n",
        "print(li.popleft())\n",
        "\n",
        "print(li.pop())\n",
        "\n",
        "print(li)"
      ],
      "execution_count": 3,
      "outputs": [
        {
          "output_type": "stream",
          "text": [
            "deque([2, 1, 3])\n",
            "2\n",
            "3\n",
            "deque([1])\n"
          ],
          "name": "stdout"
        }
      ]
    },
    {
      "cell_type": "code",
      "metadata": {
        "id": "z0GUXNAhsD-x",
        "colab": {
          "base_uri": "https://localhost:8080/"
        },
        "outputId": "2f65c226-97de-45b5-c7cf-97c60e82f469"
      },
      "source": [
        "### Classes and Objects\n",
        "## Class is a blueprint\n",
        "## Object it is the real entity\n",
        "class Car:\n",
        "  def __init__(self):\n",
        "    self.wheels=4 ## Public variable\n",
        "    self.__engine=1  ## Private variable\n",
        "    self.color=\"\"\n",
        "    self.brand=\"\"\n",
        "\n",
        "  def setNoOfWheels(self,x):\n",
        "    self.wheels=x\n",
        "\n",
        "  def getNoOFWheels(self):\n",
        "    return self.wheels\n",
        "\n",
        "  def setColor(self,x):\n",
        "    self.color=x\n",
        "\n",
        "  def getColor(self):\n",
        "    return self.color\n",
        "\n",
        "  def setEngine(self,x):\n",
        "    self.__engine=x\n",
        "\n",
        "  def getEngine(self):\n",
        "    return self.__engine\n",
        "\n",
        "  def setBrand(self,x):\n",
        "    self.brand = x\n",
        "\n",
        "  def getBrand(self):\n",
        "    return self.brand\n",
        "\n",
        "  def __str__(self):\n",
        "    return \"Brand : \" + self.brand + \" COlor: \" + self.color + \" Engine: \" + str(self.__engine) + \" Wheels: \" +str(self.wheels)\n",
        "\n",
        "\n",
        "obj1=Car() ## We have made an object of the Car class\n",
        "obj2=Car() ## 2nd car\n",
        "\n",
        "print(obj1)\n",
        "\n",
        "print(obj1.getNoOFWheels())\n",
        "print(obj2.getNoOFWheels())\n",
        "\n",
        "obj1.setNoOfWheels(6)\n",
        "\n",
        "print(\"Obj1: \", obj1.getNoOFWheels())\n",
        "print(\"Obj2: \", obj2.getNoOFWheels())\n",
        "\n",
        "obj1.setBrand(\"Rolls Royce\")\n",
        "obj2.setBrand(\"Suzuki\")\n",
        "\n",
        "obj1.setColor(\"Blue\")\n",
        "obj2.setColor(\"Red\")\n",
        "\n",
        "obj1.setEngine(2)\n",
        "obj2.setEngine(1)\n",
        "\n",
        "# print(\"Obj1: \", obj1.getNoOFWheels())\n",
        "\n",
        "print(\"Obj1: \", obj1)\n",
        "print(\"Obj2: \", obj2)"
      ],
      "execution_count": 13,
      "outputs": [
        {
          "output_type": "stream",
          "text": [
            "Brand :  COlor:  Engine: 1 Wheels: 4\n",
            "4\n",
            "4\n",
            "Obj1:  6\n",
            "Obj2:  4\n",
            "Obj1:  Brand : Rolls Royce COlor: Blue Engine: 2 Wheels: 6\n",
            "Obj2:  Brand : Suzuki COlor: Red Engine: 1 Wheels: 4\n"
          ],
          "name": "stdout"
        }
      ]
    },
    {
      "cell_type": "code",
      "metadata": {
        "id": "mfiYazzh-p55",
        "colab": {
          "base_uri": "https://localhost:8080/"
        },
        "outputId": "fd80767d-cc76-48c6-d45a-23820ee4e2bd"
      },
      "source": [
        "## Accessing values of variables\n",
        "print(obj1.wheels) \n",
        "obj1.wheels=8\n",
        "\n",
        "print(\"No of wheels after modification: \", obj1.getNoOFWheels())\n",
        "## Lets see no of engines\n",
        "print(obj1.getEngine())\n",
        "\n",
        "obj1.__engine=4\n",
        "print(obj1.__engine) ## Creating variable at run time for a particular object\n",
        "print(obj1.getEngine())"
      ],
      "execution_count": 19,
      "outputs": [
        {
          "output_type": "stream",
          "text": [
            "8\n",
            "No of wheels after modification:  8\n",
            "2\n",
            "4\n",
            "2\n"
          ],
          "name": "stdout"
        }
      ]
    },
    {
      "cell_type": "code",
      "metadata": {
        "id": "PG0QsUuRHZMe"
      },
      "source": [
        ""
      ],
      "execution_count": null,
      "outputs": []
    }
  ]
}