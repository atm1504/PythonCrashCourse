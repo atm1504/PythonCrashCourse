{
  "nbformat": 4,
  "nbformat_minor": 0,
  "metadata": {
    "colab": {
      "name": "Python Crash Course Session 1 |  6th June, 2021.ipynb",
      "provenance": [],
      "collapsed_sections": [],
      "authorship_tag": "ABX9TyMlHuAJ97LdeooKd31C8GwO",
      "include_colab_link": true
    },
    "kernelspec": {
      "name": "python3",
      "display_name": "Python 3"
    },
    "language_info": {
      "name": "python"
    }
  },
  "cells": [
    {
      "cell_type": "markdown",
      "metadata": {
        "id": "view-in-github",
        "colab_type": "text"
      },
      "source": [
        "<a href=\"https://colab.research.google.com/github/atm1504/PythonCrashCourse/blob/main/Python_Crash_Course_Session_1_%7C_6th_June%2C_2021.ipynb\" target=\"_parent\"><img src=\"https://colab.research.google.com/assets/colab-badge.svg\" alt=\"Open In Colab\"/></a>"
      ]
    },
    {
      "cell_type": "markdown",
      "metadata": {
        "id": "r2ML62kCyxZI"
      },
      "source": [
        "## Python Session\n",
        "\n",
        "### Date: 6th June, 2021\n",
        "\n",
        "### Topics to be covered:\n",
        "* Basic Input and Output\n",
        "* Data Types\n",
        "* List\n",
        "* Tuple\n",
        "* Dictionary\n",
        "* Set\n",
        "* string\n",
        "* for loop\n",
        "* if-else\n",
        "\n",
        "## On Next Class\n",
        "* while loop\n",
        "* Using lambda for input\n",
        "* Sort\n",
        "* Collection module -> Counter, defaultdict\n",
        "* Heapq\n",
        "* Class and objects\n",
        "* Inheritance\n",
        "\n"
      ]
    },
    {
      "cell_type": "code",
      "metadata": {
        "id": "d_4IB_Nwyqit",
        "colab": {
          "base_uri": "https://localhost:8080/"
        },
        "outputId": "74ef2967-9136-4c70-d6ee-95cc43fadbaf"
      },
      "source": [
        "x=5\n",
        "y=3\n",
        "\n",
        "z=x+y\n",
        "\n",
        "print(z) ## Output statement\n",
        "# int x=5"
      ],
      "execution_count": null,
      "outputs": [
        {
          "output_type": "stream",
          "text": [
            "8\n"
          ],
          "name": "stdout"
        }
      ]
    },
    {
      "cell_type": "code",
      "metadata": {
        "colab": {
          "base_uri": "https://localhost:8080/"
        },
        "id": "Nnns7MqOCMPg",
        "outputId": "8e6d2de2-3570-4469-ae1f-fcb26e710c39"
      },
      "source": [
        "x=int(input()) ## takes input in python as integer\n",
        "y=int(input())\n",
        "\n",
        "print(type(x)) ## type(x) returns the data type of x\n",
        " \n",
        "z=x+y\n",
        "print(z)"
      ],
      "execution_count": null,
      "outputs": [
        {
          "output_type": "stream",
          "text": [
            "5\n",
            "3\n",
            "<class 'int'>\n",
            "8\n"
          ],
          "name": "stdout"
        }
      ]
    },
    {
      "cell_type": "code",
      "metadata": {
        "id": "YrGAlG3ICcOm"
      },
      "source": [
        "x,y,z=0,3,4\n",
        "\n",
        "a=b=c=0\n",
        "\n"
      ],
      "execution_count": null,
      "outputs": []
    },
    {
      "cell_type": "markdown",
      "metadata": {
        "id": "FuPKWyf-DprU"
      },
      "source": [
        "## Data Types\n",
        "* Int -> int(input()\n",
        "* string. -> input()\n",
        "* float -> float(input())\n"
      ]
    },
    {
      "cell_type": "code",
      "metadata": {
        "colab": {
          "base_uri": "https://localhost:8080/"
        },
        "id": "eVZT8COTDkvC",
        "outputId": "481254f4-a28c-454b-fb0a-8f47e3d7f1b6"
      },
      "source": [
        "x=int(input())\n",
        "y=input()\n",
        "z=float(input())"
      ],
      "execution_count": null,
      "outputs": [
        {
          "output_type": "stream",
          "text": [
            "5\n",
            "atm\n",
            "5.5\n"
          ],
          "name": "stdout"
        }
      ]
    },
    {
      "cell_type": "code",
      "metadata": {
        "colab": {
          "base_uri": "https://localhost:8080/"
        },
        "id": "FciuHTjPEM59",
        "outputId": "f5f734c2-acbf-46e5-90a5-05a9d6169eb6"
      },
      "source": [
        "print(x,y,z)"
      ],
      "execution_count": null,
      "outputs": [
        {
          "output_type": "stream",
          "text": [
            "5 atm 5.5\n"
          ],
          "name": "stdout"
        }
      ]
    },
    {
      "cell_type": "code",
      "metadata": {
        "colab": {
          "base_uri": "https://localhost:8080/"
        },
        "id": "KKRhwb1hEVL0",
        "outputId": "31aec260-6c94-4136-c9ad-c1597b712357"
      },
      "source": [
        "print(type(x), type(y), type(z))"
      ],
      "execution_count": null,
      "outputs": [
        {
          "output_type": "stream",
          "text": [
            "<class 'int'> <class 'str'> <class 'float'>\n"
          ],
          "name": "stdout"
        }
      ]
    },
    {
      "cell_type": "code",
      "metadata": {
        "colab": {
          "base_uri": "https://localhost:8080/"
        },
        "id": "W_OmRGSDEavy",
        "outputId": "5b94d2df-37f7-4f1e-988e-8b3a506b699e"
      },
      "source": [
        "## Mathematical\n",
        "## +-*\n",
        "\n",
        "## divison\n",
        "x =5/2 # Float division 2.5\n",
        "y=5//2 # It rounds up to the neareest minimum integer\n",
        "print(x,y)\n",
        "\n",
        "## Modulo operator\n",
        "\n",
        "z=5%2 ## Returns remainder\n",
        "print(z)"
      ],
      "execution_count": null,
      "outputs": [
        {
          "output_type": "stream",
          "text": [
            "2.5 2\n",
            "1\n"
          ],
          "name": "stdout"
        }
      ]
    },
    {
      "cell_type": "markdown",
      "metadata": {
        "id": "wX3nL8LRFVeI"
      },
      "source": [
        "## Data Structures\n",
        "\n",
        "* List -> array (mutable), vextors is a better solution of array in c++\n",
        "* Tuple ->is similar as array but with certain restricitonion (immutable)\n",
        "* Dictionary -> map\n",
        "* set -> is same as set in c++, only thing is it is unordered\n",
        "* string -> similar to list, but is immutable"
      ]
    },
    {
      "cell_type": "code",
      "metadata": {
        "colab": {
          "base_uri": "https://localhost:8080/"
        },
        "id": "OUn_zNlrEr0E",
        "outputId": "1f4e7677-ee7c-44ab-cacd-757c60f62780"
      },
      "source": [
        "## List\n",
        "li1=[]\n",
        "li2=list()\n",
        "li3 = [None]*10 ## List of length 10 all initialized with 0\n",
        "li4 = [1,2,3,4] ## contains integers\n",
        "li5 = [\"abc\", 2,4,\"def\"] ## it contains mix of data types\n",
        "\n",
        "print(li1)\n",
        "print(li3)\n",
        "print(li4)\n",
        "print(li5)\n"
      ],
      "execution_count": null,
      "outputs": [
        {
          "output_type": "stream",
          "text": [
            "[]\n",
            "[None, None, None, None, None, None, None, None, None, None]\n",
            "[1, 2, 3, 4]\n",
            "['abc', 2, 4, 'def']\n"
          ],
          "name": "stdout"
        }
      ]
    },
    {
      "cell_type": "code",
      "metadata": {
        "colab": {
          "base_uri": "https://localhost:8080/"
        },
        "id": "bk_umJLVGrcn",
        "outputId": "9f13f4b1-9fd5-4c13-a768-e9b3c2e247d4"
      },
      "source": [
        "li4[2]=56\n",
        "print(li4)"
      ],
      "execution_count": null,
      "outputs": [
        {
          "output_type": "stream",
          "text": [
            "[1, 2, 56, 4]\n"
          ],
          "name": "stdout"
        }
      ]
    },
    {
      "cell_type": "code",
      "metadata": {
        "colab": {
          "base_uri": "https://localhost:8080/"
        },
        "id": "_XHWnT9_HAHV",
        "outputId": "d761193e-9377-4a6b-8dd1-10fbf3e1bfde"
      },
      "source": [
        "li4.append(7)\n",
        "print(li4)\n"
      ],
      "execution_count": null,
      "outputs": [
        {
          "output_type": "stream",
          "text": [
            "[1, 2, 56, 4, 7]\n"
          ],
          "name": "stdout"
        }
      ]
    },
    {
      "cell_type": "code",
      "metadata": {
        "colab": {
          "base_uri": "https://localhost:8080/"
        },
        "id": "IJEnoLXZHLAS",
        "outputId": "967ba17b-f9a7-4f50-f543-269192047e9f"
      },
      "source": [
        "print(li4[2]) # value at 2nd position\n"
      ],
      "execution_count": null,
      "outputs": [
        {
          "output_type": "stream",
          "text": [
            "56\n"
          ],
          "name": "stdout"
        }
      ]
    },
    {
      "cell_type": "code",
      "metadata": {
        "colab": {
          "base_uri": "https://localhost:8080/"
        },
        "id": "3xY-QWgyHTnF",
        "outputId": "78ea2832-5392-4cd7-af2d-52aede040c5f"
      },
      "source": [
        "## Lngth of the list\n",
        "print(len(li4))"
      ],
      "execution_count": null,
      "outputs": [
        {
          "output_type": "stream",
          "text": [
            "5\n"
          ],
          "name": "stdout"
        }
      ]
    },
    {
      "cell_type": "code",
      "metadata": {
        "colab": {
          "base_uri": "https://localhost:8080/"
        },
        "id": "zplF5fgGHZQl",
        "outputId": "fd2c19cb-d622-46e7-dabc-f46580893a2e"
      },
      "source": [
        "li1 = [8,9,10]\n",
        "## Merge li1 at the end of li4 -> [1,2,56,4,7,8,9,10]\n",
        "\n",
        "li4.extend(li1)\n",
        "print(li4)\n",
        "\n"
      ],
      "execution_count": null,
      "outputs": [
        {
          "output_type": "stream",
          "text": [
            "[1, 2, 56, 4, 7, 8, 9, 10]\n"
          ],
          "name": "stdout"
        }
      ]
    },
    {
      "cell_type": "code",
      "metadata": {
        "colab": {
          "base_uri": "https://localhost:8080/"
        },
        "id": "FDx0nGTuHmgT",
        "outputId": "46fd6e4e-56a8-4804-ba13-57dd64bdf738"
      },
      "source": [
        "## Pop\n",
        "print(li4.pop())"
      ],
      "execution_count": null,
      "outputs": [
        {
          "output_type": "stream",
          "text": [
            "10\n"
          ],
          "name": "stdout"
        }
      ]
    },
    {
      "cell_type": "code",
      "metadata": {
        "colab": {
          "base_uri": "https://localhost:8080/"
        },
        "id": "q47_qWeTHr3a",
        "outputId": "8a5a256d-4c88-4cec-b76c-5b8db836a063"
      },
      "source": [
        "print(li4)\n"
      ],
      "execution_count": null,
      "outputs": [
        {
          "output_type": "stream",
          "text": [
            "[1, 2, 56, 4, 7, 8, 9]\n"
          ],
          "name": "stdout"
        }
      ]
    },
    {
      "cell_type": "code",
      "metadata": {
        "colab": {
          "base_uri": "https://localhost:8080/"
        },
        "id": "S_HimcWNHwKL",
        "outputId": "8940c49d-ef8a-452d-9725-9f141f263cd1"
      },
      "source": [
        "## Remove elemtn at a particular index\n",
        "li4.pop(3)\n",
        "print(li4)"
      ],
      "execution_count": null,
      "outputs": [
        {
          "output_type": "stream",
          "text": [
            "[1, 2, 56, 7, 8, 9]\n"
          ],
          "name": "stdout"
        }
      ]
    },
    {
      "cell_type": "code",
      "metadata": {
        "colab": {
          "base_uri": "https://localhost:8080/"
        },
        "id": "rLkEVJO6H6T3",
        "outputId": "37543367-4fc1-43f2-a627-a8476fc79454"
      },
      "source": [
        "## Insert somme vallue at the 3rd index\n",
        "li4.insert(3,\"abc\")\n",
        "print(li4)"
      ],
      "execution_count": null,
      "outputs": [
        {
          "output_type": "stream",
          "text": [
            "[1, 2, 56, 'abc', 7, 8, 9]\n"
          ],
          "name": "stdout"
        }
      ]
    },
    {
      "cell_type": "code",
      "metadata": {
        "colab": {
          "base_uri": "https://localhost:8080/"
        },
        "id": "HB1H-QpZIIGX",
        "outputId": "9e0ed250-ac64-4151-bee9-aa061904e7da"
      },
      "source": [
        "## Slicing\n",
        "## I want all the elements from index. 2 to 5\n",
        "print(li4[2:5])\n",
        "## I wan all the elemnts from index 2 to the end\n",
        "print(li4[2:])\n",
        "\n",
        "## I want all the elemtns from the first till index 3\n",
        "print(li4[:3])"
      ],
      "execution_count": null,
      "outputs": [
        {
          "output_type": "stream",
          "text": [
            "[56, 'abc', 7]\n",
            "[56, 'abc', 7, 8, 9]\n",
            "[1, 2, 56]\n"
          ],
          "name": "stdout"
        }
      ]
    },
    {
      "cell_type": "code",
      "metadata": {
        "colab": {
          "base_uri": "https://localhost:8080/"
        },
        "id": "HKGGuOs5Iri2",
        "outputId": "86bbc6eb-157f-400e-ff20-432efc462d8f"
      },
      "source": [
        "## I want all the element sfrom index 2, at an interval of 2, till the end\n",
        "print(li4[2::2])"
      ],
      "execution_count": null,
      "outputs": [
        {
          "output_type": "stream",
          "text": [
            "[56, 7, 9]\n"
          ],
          "name": "stdout"
        }
      ]
    },
    {
      "cell_type": "code",
      "metadata": {
        "colab": {
          "base_uri": "https://localhost:8080/"
        },
        "id": "VQYBcfPsJQLt",
        "outputId": "1fe09ab5-56eb-4257-85e4-cc874bc5054f"
      },
      "source": [
        "t1=()\n",
        "t2=tuple()\n",
        "print(type(t1))\n",
        "\n",
        "t3=(1,2,3)\n",
        "print(type(t3))"
      ],
      "execution_count": null,
      "outputs": [
        {
          "output_type": "stream",
          "text": [
            "<class 'tuple'>\n",
            "<class 'tuple'>\n"
          ],
          "name": "stdout"
        }
      ]
    },
    {
      "cell_type": "code",
      "metadata": {
        "colab": {
          "base_uri": "https://localhost:8080/",
          "height": 198
        },
        "id": "3D2nI_vTJqFp",
        "outputId": "b7d35fba-67fd-41b7-a9f3-6c92d4b0a5cf"
      },
      "source": [
        "## Lets try to change the value of tuple at index 1\n",
        "t3[1]=4\n",
        "print(t3)"
      ],
      "execution_count": null,
      "outputs": [
        {
          "output_type": "error",
          "ename": "TypeError",
          "evalue": "ignored",
          "traceback": [
            "\u001b[0;31m---------------------------------------------------------------------------\u001b[0m",
            "\u001b[0;31mTypeError\u001b[0m                                 Traceback (most recent call last)",
            "\u001b[0;32m<ipython-input-31-389144d6fdfb>\u001b[0m in \u001b[0;36m<module>\u001b[0;34m()\u001b[0m\n\u001b[1;32m      1\u001b[0m \u001b[0;31m## Lets try to change the value of tuple at index 1\u001b[0m\u001b[0;34m\u001b[0m\u001b[0;34m\u001b[0m\u001b[0;34m\u001b[0m\u001b[0m\n\u001b[0;32m----> 2\u001b[0;31m \u001b[0mt3\u001b[0m\u001b[0;34m[\u001b[0m\u001b[0;36m1\u001b[0m\u001b[0;34m]\u001b[0m\u001b[0;34m=\u001b[0m\u001b[0;36m4\u001b[0m\u001b[0;34m\u001b[0m\u001b[0;34m\u001b[0m\u001b[0m\n\u001b[0m\u001b[1;32m      3\u001b[0m \u001b[0mprint\u001b[0m\u001b[0;34m(\u001b[0m\u001b[0mt3\u001b[0m\u001b[0;34m)\u001b[0m\u001b[0;34m\u001b[0m\u001b[0;34m\u001b[0m\u001b[0m\n",
            "\u001b[0;31mTypeError\u001b[0m: 'tuple' object does not support item assignment"
          ]
        }
      ]
    },
    {
      "cell_type": "code",
      "metadata": {
        "colab": {
          "base_uri": "https://localhost:8080/"
        },
        "id": "b916XsRNKDrA",
        "outputId": "1c828311-02da-4778-ee2e-8ba5e711e701"
      },
      "source": [
        "s=str()\n",
        "s1=\"\"\n",
        "s2=\"wertyuiop\"\n",
        "s3=\"qwasasa\"\n",
        "## Everything samme as list, only thing is its immutable, like tuple\n",
        "s4=s2+s3\n",
        "print(s4)\n",
        "\n",
        "## SImialr indexing method as of list\n",
        "## SImilar slicing also"
      ],
      "execution_count": null,
      "outputs": [
        {
          "output_type": "stream",
          "text": [
            "wertyuiopqwasasa\n"
          ],
          "name": "stdout"
        }
      ]
    },
    {
      "cell_type": "code",
      "metadata": {
        "colab": {
          "base_uri": "https://localhost:8080/"
        },
        "id": "xg4SzKm6KeUL",
        "outputId": "b605c07d-f40d-4957-a91f-d2d74644f965"
      },
      "source": [
        "print(s4[4:]) ## ALl characters from index 4"
      ],
      "execution_count": null,
      "outputs": [
        {
          "output_type": "stream",
          "text": [
            "yuiopqwasasa\n"
          ],
          "name": "stdout"
        }
      ]
    },
    {
      "cell_type": "code",
      "metadata": {
        "colab": {
          "base_uri": "https://localhost:8080/"
        },
        "id": "iwQftzU3Ky3l",
        "outputId": "842e7737-22a9-481a-eb0c-7debf05a79de"
      },
      "source": [
        "print(s4[4::3]) ## Alll elements after index 4 with 3 intervals"
      ],
      "execution_count": null,
      "outputs": [
        {
          "output_type": "stream",
          "text": [
            "yowa\n"
          ],
          "name": "stdout"
        }
      ]
    },
    {
      "cell_type": "code",
      "metadata": {
        "colab": {
          "base_uri": "https://localhost:8080/"
        },
        "id": "vHHPYmWOK2Ki",
        "outputId": "87792ddb-f6ed-46e4-d48c-69f22fd358cc"
      },
      "source": [
        "## we can print the elements of a list by differet ways using loops lets ee some of them\n",
        "print(li4) \n",
        "li=li4 ## Shallow copy\n",
        "print(li)\n",
        "\n",
        "li[1]=\"atm\"\n",
        "print(\"-----------------\")\n",
        "print(li)\n",
        "print(li4)"
      ],
      "execution_count": null,
      "outputs": [
        {
          "output_type": "stream",
          "text": [
            "[1, 2, 56, 'abc', 7, 8, 9]\n",
            "[1, 2, 56, 'abc', 7, 8, 9]\n",
            "-----------------\n",
            "[1, 'atm', 56, 'abc', 7, 8, 9]\n",
            "[1, 'atm', 56, 'abc', 7, 8, 9]\n"
          ],
          "name": "stdout"
        }
      ]
    },
    {
      "cell_type": "code",
      "metadata": {
        "id": "3qhnjaTuLU53"
      },
      "source": [
        "## Deep copy\n",
        "li=li4[::]"
      ],
      "execution_count": null,
      "outputs": []
    },
    {
      "cell_type": "code",
      "metadata": {
        "colab": {
          "base_uri": "https://localhost:8080/"
        },
        "id": "oBSqixN8MBKy",
        "outputId": "d4a5f763-c097-4da6-8547-c58bc0b1472b"
      },
      "source": [
        "print(li)\n",
        "print(li4)\n",
        "\n",
        "li4[1]=\"ana\"\n",
        "print(\"----------------\")\n",
        "print(li)\n",
        "print(li4)"
      ],
      "execution_count": null,
      "outputs": [
        {
          "output_type": "stream",
          "text": [
            "[1, 'atm', 56, 'abc', 7, 8, 9]\n",
            "[1, 'atm', 56, 'abc', 7, 8, 9]\n",
            "----------------\n",
            "[1, 'atm', 56, 'abc', 7, 8, 9]\n",
            "[1, 'ana', 56, 'abc', 7, 8, 9]\n"
          ],
          "name": "stdout"
        }
      ]
    },
    {
      "cell_type": "code",
      "metadata": {
        "colab": {
          "base_uri": "https://localhost:8080/"
        },
        "id": "gtmw08NfMYet",
        "outputId": "c9ef239b-2ec2-41a6-ec25-f22519d1bb08"
      },
      "source": [
        "## print all elements of a list without brackets and ,\n",
        "print(*li)"
      ],
      "execution_count": null,
      "outputs": [
        {
          "output_type": "stream",
          "text": [
            "1 atm 56 abc 7 8 9\n"
          ],
          "name": "stdout"
        }
      ]
    },
    {
      "cell_type": "code",
      "metadata": {
        "colab": {
          "base_uri": "https://localhost:8080/"
        },
        "id": "wixhSneyMnYv",
        "outputId": "ad22054b-27ad-454c-97b1-2462d0fb6d76"
      },
      "source": [
        "## Simialr thing can be used in string and tuple\n",
        "for i in range(0,len(li)):\n",
        "  print(li[i], end= \" \")\n",
        "\n",
        "## int =0\n",
        "## for (i=0; i<n; i++){\n",
        "    ## cout << li[i]\n",
        "## }\n",
        "\n",
        "## for i+=2\n",
        "print()\n",
        "for i in range(0,len(li),2):\n",
        "  print(li[i], end= \" \")\n",
        "\n",
        "print()\n",
        "for i in range(0,len(li)):\n",
        "  print(li[i])\n",
        "\n",
        "## Simialr thing can be used in string and tuple"
      ],
      "execution_count": null,
      "outputs": [
        {
          "output_type": "stream",
          "text": [
            "1 atm 56 abc 7 8 9 \n",
            "1 56 7 9 \n",
            "1\n",
            "atm\n",
            "56\n",
            "abc\n",
            "7\n",
            "8\n",
            "9\n"
          ],
          "name": "stdout"
        }
      ]
    },
    {
      "cell_type": "code",
      "metadata": {
        "colab": {
          "base_uri": "https://localhost:8080/"
        },
        "id": "IfP1taPRM2Bf",
        "outputId": "27bf9afd-1383-4f65-8f86-ce78fcce94c9"
      },
      "source": [
        "## Printing the elemtns of list using the values\n",
        "for x in li:\n",
        "  print(x)\n",
        "\n",
        "## Similar thing can be used in string and tuple"
      ],
      "execution_count": null,
      "outputs": [
        {
          "output_type": "stream",
          "text": [
            "1\n",
            "atm\n",
            "56\n",
            "abc\n",
            "7\n",
            "8\n",
            "9\n"
          ],
          "name": "stdout"
        }
      ]
    },
    {
      "cell_type": "code",
      "metadata": {
        "colab": {
          "base_uri": "https://localhost:8080/"
        },
        "id": "58QZ46wkPNAt",
        "outputId": "2f104847-ca1b-44dd-bf2a-a5fb890bd664"
      },
      "source": [
        "## 2d List or 2d array\n",
        "li1=[0]*10\n",
        "li1 = [0 for i in range(10)]\n",
        "## Similar thing can be used in string and tuple\n",
        "## Both the above statements are same. YTjey defines a list of length 10 with all values as 0\n",
        "# matrix with 3 rows and 5 columns, and all initialized with 0\n",
        "## Matrix is a  2d array\n",
        "li=[[0 for j in range(5)] for i in range(3)] ## nothing called 2d tuple or 2d string\n",
        "print(li)\n",
        "for x in li:\n",
        "  print(x)\n",
        "\n",
        "for x in li:\n",
        "  print(*x)"
      ],
      "execution_count": null,
      "outputs": [
        {
          "output_type": "stream",
          "text": [
            "[[0, 0, 0, 0, 0], [0, 0, 0, 0, 0], [0, 0, 0, 0, 0]]\n",
            "[0, 0, 0, 0, 0]\n",
            "[0, 0, 0, 0, 0]\n",
            "[0, 0, 0, 0, 0]\n",
            "0 0 0 0 0\n",
            "0 0 0 0 0\n",
            "0 0 0 0 0\n"
          ],
          "name": "stdout"
        }
      ]
    },
    {
      "cell_type": "code",
      "metadata": {
        "colab": {
          "base_uri": "https://localhost:8080/"
        },
        "id": "qeXZJ6ezPs9V",
        "outputId": "4dddc612-dfe7-4fbd-a5ad-4438df44f6db"
      },
      "source": [
        "s=set()\n",
        "s.add(1)\n",
        "s.add(2)\n",
        "## Set is a collection of unique elements\n",
        "print(s)\n",
        "\n",
        "s.add(3)\n",
        "s.add(2)\n",
        "print(s)"
      ],
      "execution_count": null,
      "outputs": [
        {
          "output_type": "stream",
          "text": [
            "{1, 2}\n",
            "{1, 2, 3}\n"
          ],
          "name": "stdout"
        }
      ]
    },
    {
      "cell_type": "code",
      "metadata": {
        "colab": {
          "base_uri": "https://localhost:8080/"
        },
        "id": "sGsEnMV-Q_6y",
        "outputId": "641f38c3-0ce1-42a7-a18d-c7db8738e6ea"
      },
      "source": [
        "## COnvert a liost to a set\n",
        "li=[1,2,3,4,5,2,3,4,7,8,9]\n",
        "s=set(li)\n",
        "print(li)\n",
        "print(s)"
      ],
      "execution_count": null,
      "outputs": [
        {
          "output_type": "stream",
          "text": [
            "[1, 2, 3, 4, 5, 2, 3, 4, 7, 8, 9]\n",
            "{1, 2, 3, 4, 5, 7, 8, 9}\n"
          ],
          "name": "stdout"
        }
      ]
    },
    {
      "cell_type": "code",
      "metadata": {
        "colab": {
          "base_uri": "https://localhost:8080/"
        },
        "id": "NUbYnNugRUC7",
        "outputId": "e5d3b582-377f-4a21-fdcf-f26b070f7306"
      },
      "source": [
        "## rremove an element from a set\n",
        "s.remove(2)\n",
        "print(s)"
      ],
      "execution_count": null,
      "outputs": [
        {
          "output_type": "stream",
          "text": [
            "{1, 3, 4, 5, 7, 8, 9}\n"
          ],
          "name": "stdout"
        }
      ]
    },
    {
      "cell_type": "code",
      "metadata": {
        "colab": {
          "base_uri": "https://localhost:8080/"
        },
        "id": "K8mTua7wRyVj",
        "outputId": "6025ba7b-765e-4e54-f459-5ec4942d81fc"
      },
      "source": [
        "if 7 in s:\n",
        "  print(\"Yes Present\")\n",
        "else:\n",
        "  print(\"No\")\n",
        "\n",
        "## Same things as above in single line\n",
        "print(\"Yes Absent\" if 7 not in s else \"Its present\")"
      ],
      "execution_count": null,
      "outputs": [
        {
          "output_type": "stream",
          "text": [
            "Yes Present\n",
            "Its present\n"
          ],
          "name": "stdout"
        }
      ]
    },
    {
      "cell_type": "code",
      "metadata": {
        "colab": {
          "base_uri": "https://localhost:8080/"
        },
        "id": "nfm-Tz-UR-Wl",
        "outputId": "9696431b-631e-43dc-d5c4-c4e3c08834b7"
      },
      "source": [
        "a=2\n",
        "if a==3:\n",
        "  print(\"A is 3\")\n",
        "elif a==2:\n",
        "  print(\"A is 2\")\n",
        "else:\n",
        "  print(\"A's vlaue not matched\")\n",
        "  "
      ],
      "execution_count": null,
      "outputs": [
        {
          "output_type": "stream",
          "text": [
            "A is 2\n"
          ],
          "name": "stdout"
        }
      ]
    },
    {
      "cell_type": "markdown",
      "metadata": {
        "id": "gs08B91vS3KR"
      },
      "source": [
        "## Dictionary\n",
        "\n",
        "Same as hash map in c++\n",
        "Key:Value\n",
        "\n",
        "There is a unique key and corresponding to that key we store a value.\n",
        "All keys in a dictionary must be unique.\n",
        "Key can be any imutable data type\n",
        "Key can be a tuple, a string, an integer etc. But it cannot be a list or another dictiionary\n"
      ]
    },
    {
      "cell_type": "code",
      "metadata": {
        "colab": {
          "base_uri": "https://localhost:8080/"
        },
        "id": "Dz5D34RpSSOk",
        "outputId": "eb6ab362-e498-417e-8f39-df6223929b8b"
      },
      "source": [
        "d=dict()\n",
        "d[\"key1\"] = \"Valu1\"\n",
        "d[1]=2\n",
        "\n",
        "print(d)"
      ],
      "execution_count": null,
      "outputs": [
        {
          "output_type": "stream",
          "text": [
            "{'key1': 'Valu1', 1: 2}\n"
          ],
          "name": "stdout"
        }
      ]
    },
    {
      "cell_type": "code",
      "metadata": {
        "colab": {
          "base_uri": "https://localhost:8080/"
        },
        "id": "va-o7lpMTt9R",
        "outputId": "a8976e61-a0bf-4a09-9d6a-5856d078ec8a"
      },
      "source": [
        "print(d[1])"
      ],
      "execution_count": null,
      "outputs": [
        {
          "output_type": "stream",
          "text": [
            "2\n"
          ],
          "name": "stdout"
        }
      ]
    },
    {
      "cell_type": "code",
      "metadata": {
        "colab": {
          "base_uri": "https://localhost:8080/"
        },
        "id": "z4kf88FsTyVZ",
        "outputId": "cdcced32-5465-4a91-8539-0786a99843ff"
      },
      "source": [
        "## Print only the values of a dictionary\n",
        "print(list(d.values()))\n",
        "\n",
        "for x in d:\n",
        "  print(d[x])\n",
        "\n",
        "\n"
      ],
      "execution_count": null,
      "outputs": [
        {
          "output_type": "stream",
          "text": [
            "['Valu1', 2]\n",
            "Valu1\n",
            "2\n"
          ],
          "name": "stdout"
        }
      ]
    },
    {
      "cell_type": "code",
      "metadata": {
        "colab": {
          "base_uri": "https://localhost:8080/"
        },
        "id": "CLvu5iDnT9YC",
        "outputId": "01965b21-f45e-4b24-dd2a-e96bfb1b8d6a"
      },
      "source": [
        "## Print the keys of a dictionary\n",
        "for x in d:\n",
        "  print(x)\n",
        "\n",
        "print(list(d.keys()))"
      ],
      "execution_count": null,
      "outputs": [
        {
          "output_type": "stream",
          "text": [
            "key1\n",
            "1\n",
            "['key1', 1]\n"
          ],
          "name": "stdout"
        }
      ]
    },
    {
      "cell_type": "code",
      "metadata": {
        "colab": {
          "base_uri": "https://localhost:8080/"
        },
        "id": "Db3DT22qUKPj",
        "outputId": "291eaade-0883-4d6a-b4cf-9f865f83b26e"
      },
      "source": [
        "## Check if a key is present in the dicitonar or not\n",
        "if 7 in d:\n",
        "  print(\"Yes Present\")\n",
        "else:\n",
        "  print(\"No\")\n",
        "## same thing for string, list, tuple, set\n",
        "## Same things as above in single line\n",
        "print(\"Yes Absent\" if 7 not in d else \"Its present\")"
      ],
      "execution_count": null,
      "outputs": [
        {
          "output_type": "stream",
          "text": [
            "No\n",
            "Yes Absent\n"
          ],
          "name": "stdout"
        }
      ]
    },
    {
      "cell_type": "code",
      "metadata": {
        "colab": {
          "base_uri": "https://localhost:8080/",
          "height": 181
        },
        "id": "HKFrYXK-UZat",
        "outputId": "dc4fabef-aea0-4302-d8bf-4ec60bbcd4f8"
      },
      "source": [
        "x=d[7]\n",
        "print(7)"
      ],
      "execution_count": null,
      "outputs": [
        {
          "output_type": "error",
          "ename": "KeyError",
          "evalue": "ignored",
          "traceback": [
            "\u001b[0;31m---------------------------------------------------------------------------\u001b[0m",
            "\u001b[0;31mKeyError\u001b[0m                                  Traceback (most recent call last)",
            "\u001b[0;32m<ipython-input-73-f041f7130f2c>\u001b[0m in \u001b[0;36m<module>\u001b[0;34m()\u001b[0m\n\u001b[0;32m----> 1\u001b[0;31m \u001b[0mx\u001b[0m\u001b[0;34m=\u001b[0m\u001b[0md\u001b[0m\u001b[0;34m[\u001b[0m\u001b[0;36m7\u001b[0m\u001b[0;34m]\u001b[0m\u001b[0;34m\u001b[0m\u001b[0;34m\u001b[0m\u001b[0m\n\u001b[0m\u001b[1;32m      2\u001b[0m \u001b[0mprint\u001b[0m\u001b[0;34m(\u001b[0m\u001b[0;36m7\u001b[0m\u001b[0;34m)\u001b[0m\u001b[0;34m\u001b[0m\u001b[0;34m\u001b[0m\u001b[0m\n",
            "\u001b[0;31mKeyError\u001b[0m: 7"
          ]
        }
      ]
    },
    {
      "cell_type": "code",
      "metadata": {
        "colab": {
          "base_uri": "https://localhost:8080/"
        },
        "id": "RJqE96xJUmY1",
        "outputId": "b5a62c66-4987-4e4c-84ad-76fe815dcdbf"
      },
      "source": [
        "## If a key is not present int he dicitonary set its default value to that key as False\n",
        "\n",
        "x=d.get(7, False)\n",
        "print(x)\n",
        "\n",
        "x=d.get(1, False) ## is already present in the dictionary\n",
        "print(x)"
      ],
      "execution_count": null,
      "outputs": [
        {
          "output_type": "stream",
          "text": [
            "False\n",
            "2\n"
          ],
          "name": "stdout"
        }
      ]
    },
    {
      "cell_type": "code",
      "metadata": {
        "colab": {
          "base_uri": "https://localhost:8080/"
        },
        "id": "EArxFzaQUySP",
        "outputId": "5628614b-ef07-4829-f815-cb6a7b4f86d1"
      },
      "source": [
        "## for getting access to both the keys and values of a dictionary at the same time\n",
        "\n",
        "for k,v in d.items():\n",
        "  print(k,v)"
      ],
      "execution_count": null,
      "outputs": [
        {
          "output_type": "stream",
          "text": [
            "key1 Valu1\n",
            "1 2\n"
          ],
          "name": "stdout"
        }
      ]
    },
    {
      "cell_type": "code",
      "metadata": {
        "colab": {
          "base_uri": "https://localhost:8080/"
        },
        "id": "rQ9f7tbIVIXY",
        "outputId": "e63d9265-96f9-435d-b097-48c8afa5d1c5"
      },
      "source": [
        "# for a 2*n list, if we want to print all th 2 values together the sybntax is\n",
        "li = [[2,3],[4,5], [5,6], [\"a\",\"b\"], [\"c\",\"d\"]] ## a 2 d list with 2 columns andf 5 rows\n",
        "\n",
        "for x,y in li:\n",
        "  print(x,y)\n"
      ],
      "execution_count": null,
      "outputs": [
        {
          "output_type": "stream",
          "text": [
            "2 3\n",
            "4 5\n",
            "5 6\n",
            "a b\n",
            "c d\n"
          ],
          "name": "stdout"
        }
      ]
    },
    {
      "cell_type": "code",
      "metadata": {
        "colab": {
          "base_uri": "https://localhost:8080/"
        },
        "id": "vF8v4fJBVjEB",
        "outputId": "889ce63a-68a8-4739-93da-763664ad1454"
      },
      "source": [
        "## Decomposition of list\n",
        "# same for tuple\n",
        "li=[4,5,6,7]\n",
        "a,b,c,d =li\n",
        "print(a)\n",
        "print(b)\n",
        "print(c)\n",
        "print(d)"
      ],
      "execution_count": null,
      "outputs": [
        {
          "output_type": "stream",
          "text": [
            "4\n",
            "5\n",
            "6\n",
            "7\n"
          ],
          "name": "stdout"
        }
      ]
    },
    {
      "cell_type": "code",
      "metadata": {
        "id": "GEjbnPz2V23R",
        "colab": {
          "base_uri": "https://localhost:8080/"
        },
        "outputId": "dafa33d5-c14a-4a09-9039-5331e241b2c5"
      },
      "source": [
        "## Zip in python\n",
        "## SUppose we have 2 lists of same length\n",
        "li1=[1,2,3,4,5,6]\n",
        "li2=[10,11,12,13,14,15]\n",
        "\n",
        "## Suppose we need to iterate this two list simultanelously and operate some operation at the same index values in boht the list\n",
        "## Like suppose I need to find li1[i]*li2[i], so in python we have a shortcut\n",
        "for x,y in zip(li1,li2):\n",
        "  print(x*y) \n",
        "## Here x=li1[i] and y=li2[i]\n",
        "## so instead of indexing or using indexing method we have achieved the objective using zip fucntion\n"
      ],
      "execution_count": 1,
      "outputs": [
        {
          "output_type": "stream",
          "text": [
            "10\n",
            "22\n",
            "36\n",
            "52\n",
            "70\n",
            "90\n"
          ],
          "name": "stdout"
        }
      ]
    },
    {
      "cell_type": "code",
      "metadata": {
        "id": "kxpt4byCUkLR"
      },
      "source": [
        ""
      ],
      "execution_count": null,
      "outputs": []
    }
  ]
}